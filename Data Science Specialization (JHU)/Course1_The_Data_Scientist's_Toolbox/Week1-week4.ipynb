{
 "cells": [
  {
   "cell_type": "markdown",
   "metadata": {},
   "source": [
    "# Jupyter notebook with R\n",
    "Reference: https://www.datacamp.com/community/blog/jupyter-notebook-r <br>\n",
    "Quick start:\n",
    "1. Setup R environment:\n",
    "conda create -n r -c r r-essentials\n",
    "2. Install R and R essentials:\n",
    "conda install -c r r-essentials\n",
    "3. Open new notebook with R\n"
   ]
  },
  {
   "cell_type": "markdown",
   "metadata": {},
   "source": [
    "# Week1\n",
    "R is procedure oriented language, don't allow object oriented programming. <br>"
   ]
  },
  {
   "cell_type": "markdown",
   "metadata": {},
   "source": [
    "# Week2: Installing the Toolbox\n",
    "### Git notes\n",
    "see Git_cheatsheet <br>\n",
    "\n",
    "### Find packages that suit your project\n",
    "go to Tasks view (https://cran.r-project.org/web/views/) <br>\n",
    "\n",
    "### Basic R commands\n",
    "* **Install R packages from CRAN<br>**\n",
    "install.packages('devtools')    # to install package <br>\n",
    "install.packages(c('package1', 'package2'))    # to install muptiple packages <br>\n",
    "\n",
    "* **Install R packages from biocLite<br>**\n",
    "source(\"http://bioconductor.org/biocLite.R\") <br>\n",
    "biocLite() <br>\n",
    "biocLite(c('package1', 'package2')) <br>\n",
    "\n",
    "* **Load packages<br>**\n",
    "library(package1) <br>\n",
    "search()    # shows all of the functions that are part of the package1 <br>\n"
   ]
  },
  {
   "cell_type": "markdown",
   "metadata": {},
   "source": [
    "# Week3: Conceptual Issues\n",
    "### Types of questions\n",
    "### What is data\n",
    "### Big data\n",
    "### Experimental Design\n",
    "* **Prediction vs inference<br>**\n",
    "An inference is usually made about something with a degree of certainty, based on facts like statistics, calculations, observation or generalizations. <br>\n",
    "Prediciton is a statement about what will or might happen in the future. <br>\n",
    "The difference mostly depends on time.\n",
    "* **Prediction vs inference<br>**\n",
    "Sensitivity: Pr(positive test | disease) <br>\n",
    "Specificity: Pr(negative test | no disease) <br>\n",
    "Accuracy: Pr(correct outcomt) <br>"
   ]
  },
  {
   "cell_type": "code",
   "execution_count": null,
   "metadata": {},
   "outputs": [],
   "source": []
  }
 ],
 "metadata": {
  "kernelspec": {
   "display_name": "R",
   "language": "R",
   "name": "ir"
  },
  "language_info": {
   "codemirror_mode": "r",
   "file_extension": ".r",
   "mimetype": "text/x-r-source",
   "name": "R",
   "pygments_lexer": "r",
   "version": "3.5.1"
  }
 },
 "nbformat": 4,
 "nbformat_minor": 2
}
